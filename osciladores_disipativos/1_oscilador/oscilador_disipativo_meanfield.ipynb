{
 "cells": [
  {
   "cell_type": "code",
   "execution_count": 74,
   "id": "c5c90a4e-65c7-48ba-9003-b6e632bf14e5",
   "metadata": {},
   "outputs": [],
   "source": [
    "from qutip import *\n",
    "import matplotlib.pyplot as plt\n",
    "import pandas as pd\n",
    "import numpy as np\n",
    "from tqdm import tqdm\n",
    "import scipy.integrate as sci\n",
    "import scipy.special as scs\n",
    "\n",
    "\n",
    "\n",
    "\n",
    "\n",
    "N=3\n",
    "n_oscillators=1\n",
    "gamma=0.0\n",
    "gammam=1\n",
    "delta=20*gammam\n",
    "eta=100*gammam\n",
    "n=2\n",
    "theta=np.pi/2\n",
    "m=4\n",
    "tmax=250\n",
    "samples=300\n",
    "tau=100\n",
    "eigen=5\n",
    "\n",
    "\n",
    "integrate=lambda x,n,m:np.sqrt(2.0/np.pi)*np.exp(-2*x**2)*scs.eval_hermite(n,np.sqrt(2)*x)*scs.eval_hermite(m,np.sqrt(2)*x)/np.sqrt(2**(n+m)*scs.gamma(n+1)*scs.gamma(m+1))\n",
    "        \n",
    "    \n",
    "M1=np.zeros((N,N))\n",
    "\n",
    "\n",
    "for i in range(N):\n",
    "    for j in range(N):\n",
    "        M1[i,j]=sci.quad(integrate,0.0,np.inf,args=(i,j),limit=50000)[0]\n",
    "M1=Qobj(M1)\n",
    "\n",
    "\n",
    "f=lambda t:np.abs(eta)*np.tanh(t/tau)\n",
    "\n",
    "a=destroy(N)\n",
    "ad=create(N)\n",
    "\n",
    "\n",
    "\n",
    "psi0=basis(N,0)*np.random.uniform(0.0,1.0)\n",
    "\n",
    "for i in range(1,N):\n",
    "    psi0+=basis(N,i)*np.random.uniform(0.0,1.0)\n",
    "\n",
    "psi0=psi0.unit()\n",
    "\n",
    "\n",
    "\n",
    "\n",
    "rho0=ket2dm(psi0)\n",
    "\n",
    "tlist=np.linspace(0.0,1500,1200)\n",
    "\n",
    "H0=delta*ad*a\n",
    "Ht=(a**n*np.exp(theta*n*1.0j)-ad**n*np.exp(-theta*n*1.0j))*1.0j\n",
    "\n",
    "jump=[np.sqrt(gamma)*a,np.sqrt(gammam)*(a**m)]\n",
    "ops=[a,ad*a,a*a,a**4,ad*a*ad*a,M1*a*M1,M1*a*a*M1]"
   ]
  },
  {
   "cell_type": "code",
   "execution_count": null,
   "id": "35c1ea85-c904-4aaa-9514-66aafdfc3aba",
   "metadata": {},
   "outputs": [
    {
     "data": {
      "application/vnd.jupyter.widget-view+json": {
       "model_id": "0d08e07a0217441594a7341473e787a9",
       "version_major": 2,
       "version_minor": 0
      },
      "text/plain": [
       "  0%|          | 0/1199 [00:00<?, ?it/s]"
      ]
     },
     "metadata": {},
     "output_type": "display_data"
    }
   ],
   "source": [
    "result=mesolve([H0,[Ht,f]],rho0,tlist,c_ops=jump,e_ops=ops,options={\n",
    "    \"store_final_state\":True,\"store_states\":True,\"nsteps\":100000000,\"progress_bar\":\"tqdm\",\"normalize_output\":False,\"atol\":1e-9,\"rtol\":1e-9\n",
    "})"
   ]
  },
  {
   "cell_type": "code",
   "execution_count": null,
   "id": "07a45420-6f27-4a71-b5ea-994036ed9626",
   "metadata": {},
   "outputs": [],
   "source": [
    "filas=np.zeros((tlist.size,len(ops)),dtype=np.complex128)\n",
    "\n",
    "for i in range(len(ops)):\n",
    "    filas[:,i]=result.expect[i]"
   ]
  },
  {
   "cell_type": "code",
   "execution_count": null,
   "id": "86896f24-c0eb-482e-a057-9ba451621e57",
   "metadata": {},
   "outputs": [],
   "source": [
    "\n",
    "auto=np.zeros((eigen,60),dtype=np.complex128)\n",
    "cont=0\n",
    "for i in range(0,tlist.size,20):\n",
    "    L = liouvillian(H0+f(tlist[i])*Ht, jump)\n",
    "    # Obtener el espectro del Liuvilliano\n",
    "    auto[:,cont] = L.eigenenergies()[-eigen:]\n",
    "    cont+=1\n",
    "\n",
    "pd.DataFrame(auto,columns=tlist[0:-1:20]).to_csv(\"espectro_N_\"+str(N)+\"_delta_\"+str(delta)+\"_eta_\"+str(eta)+\"_theta_\"+str(theta)+\".csv\")"
   ]
  },
  {
   "cell_type": "code",
   "execution_count": null,
   "id": "b821bffc-3b98-4d13-a209-c3c15e12e459",
   "metadata": {},
   "outputs": [],
   "source": [
    "psi0=ket2dm(basis(N,0))"
   ]
  },
  {
   "cell_type": "code",
   "execution_count": null,
   "id": "cc4461b6-3e7a-44ef-ab71-310eda4ebf4a",
   "metadata": {},
   "outputs": [],
   "source": [
    "result=mesolve([H0,[Ht,f]],rho0,tlist,c_ops=jump,e_ops=ops,options={\n",
    "    \"store_final_state\":True,\"store_states\":True,\"nsteps\":100000000,\"progress_bar\":\"tqdm\",\"normalize_output\":False,\"atol\":1e-9,\"rtol\":1e-9\n",
    "})"
   ]
  },
  {
   "cell_type": "code",
   "execution_count": null,
   "id": "5d021041-f0d6-4df5-be9b-01a9a259c9c1",
   "metadata": {},
   "outputs": [],
   "source": [
    "filas=np.zeros((tlist.size,len(ops)),dtype=np.complex128)\n",
    "\n",
    "for i in range(len(ops)):\n",
    "    filas[:,i]=result.expect[i]\n",
    "\n",
    "resultados=pd.DataFrame(filas,columns=[\"a\",\"N\",\"a*a\",\"a**4\",\"ad*a*ad*a\",\"MaM\",\"M*a*a*M\"])\n",
    "\n",
    "resultados.to_csv(\"valores_esperados_vacio_N_\"+str(N)+\"_delta_\"+str(delta)+\"_eta_\"+str(eta)+\"_theta_\"+str(theta)+\".csv\")"
   ]
  },
  {
   "cell_type": "code",
   "execution_count": null,
   "id": "7f1f3228-89c9-4df0-bbf8-e448c88cdced",
   "metadata": {},
   "outputs": [],
   "source": [
    "psi0=ket2dm(coherent(N,eta**(1/6)))\n",
    "\n",
    "result=mesolve([H0,[Ht,f]],rho0,tlist,c_ops=jump,e_ops=ops,options={\n",
    "    \"store_final_state\":True,\"store_states\":True,\"nsteps\":100000000,\"progress_bar\":\"tqdm\",\"normalize_output\":False,\"atol\":1e-9,\"rtol\":1e-9\n",
    "})"
   ]
  },
  {
   "cell_type": "code",
   "execution_count": null,
   "id": "c90c38e6-0dbf-45d6-b88e-21ace12376c9",
   "metadata": {},
   "outputs": [],
   "source": [
    "filas=np.zeros((tlist.size,len(ops)),dtype=np.complex128)\n",
    "\n",
    "for i in range(len(ops)):\n",
    "    filas[:,i]=result.expect[i]\n",
    "\n",
    "resultados=pd.DataFrame(filas,columns=[\"a\",\"N\",\"a*a\",\"a**4\",\"ad*a*ad*a\",\"MaM\",\"M*a*a*M\"])\n",
    "\n",
    "resultados.to_csv(\"valores_esperados_lobulo_vacio_N_\"+str(N)+\"_delta_\"+str(delta)+\"_eta_\"+str(eta)+\"_theta_\"+str(theta)+\".csv\")"
   ]
  },
  {
   "cell_type": "code",
   "execution_count": null,
   "id": "d777edd6-997d-47e4-ad79-3f153d0835eb",
   "metadata": {},
   "outputs": [],
   "source": []
  }
 ],
 "metadata": {
  "kernelspec": {
   "display_name": "Python 3 (ipykernel)",
   "language": "python",
   "name": "python3"
  },
  "language_info": {
   "codemirror_mode": {
    "name": "ipython",
    "version": 3
   },
   "file_extension": ".py",
   "mimetype": "text/x-python",
   "name": "python",
   "nbconvert_exporter": "python",
   "pygments_lexer": "ipython3",
   "version": "3.11.0"
  }
 },
 "nbformat": 4,
 "nbformat_minor": 5
}
